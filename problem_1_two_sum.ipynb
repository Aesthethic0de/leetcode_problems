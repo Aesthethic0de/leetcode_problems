{
 "cells": [
  {
   "cell_type": "code",
   "execution_count": 2,
   "metadata": {},
   "outputs": [],
   "source": [
    "#  Twosum answer by one pass method with\n",
    "\n",
    "nums = [2,7,11,15]\n",
    "target = 18"
   ]
  },
  {
   "cell_type": "code",
   "execution_count": 1,
   "metadata": {},
   "outputs": [],
   "source": [
    "def two_sums(nums,target):\n",
    "    prevmap = {}\n",
    "    for i,n in enumerate(nums):\n",
    "        print(f\"the loop is {i}\")\n",
    "        print(f\"the nums values is {n}\")\n",
    "        diff = target - n\n",
    "\n",
    "        print(f\"the difference in loops {diff}\")\n",
    "\n",
    "        if diff in prevmap:\n",
    "            print(f\"this is initial prevmap final values {prevmap}\")\n",
    "            return [prevmap[diff], i]\n",
    "        prevmap[n] = i\n",
    "        print(f\"this is initial prevmap values {prevmap}\")\n",
    "    return prevmap\n",
    "        \n",
    "       \n",
    "        \n"
   ]
  },
  {
   "cell_type": "code",
   "execution_count": 3,
   "metadata": {},
   "outputs": [
    {
     "name": "stdout",
     "output_type": "stream",
     "text": [
      "the loop is 0\n",
      "the nums values is 2\n",
      "the difference in loops 16\n",
      "this is initial prevmap values {2: 0}\n",
      "the loop is 1\n",
      "the nums values is 7\n",
      "the difference in loops 11\n",
      "this is initial prevmap values {2: 0, 7: 1}\n",
      "the loop is 2\n",
      "the nums values is 11\n",
      "the difference in loops 7\n",
      "this is initial prevmap final values {2: 0, 7: 1}\n"
     ]
    },
    {
     "data": {
      "text/plain": [
       "[1, 2]"
      ]
     },
     "execution_count": 3,
     "metadata": {},
     "output_type": "execute_result"
    }
   ],
   "source": [
    "two_sums(nums=nums,target=target)"
   ]
  },
  {
   "cell_type": "code",
   "execution_count": null,
   "metadata": {},
   "outputs": [],
   "source": []
  },
  {
   "cell_type": "code",
   "execution_count": null,
   "metadata": {},
   "outputs": [],
   "source": []
  },
  {
   "cell_type": "code",
   "execution_count": null,
   "metadata": {},
   "outputs": [],
   "source": []
  }
 ],
 "metadata": {
  "interpreter": {
   "hash": "b292bbeffc02ec2eaedb27508319e3367135627afc595302076ce63cd434d12d"
  },
  "kernelspec": {
   "display_name": "Python 3.9.12 ('base')",
   "language": "python",
   "name": "python3"
  },
  "language_info": {
   "codemirror_mode": {
    "name": "ipython",
    "version": 3
   },
   "file_extension": ".py",
   "mimetype": "text/x-python",
   "name": "python",
   "nbconvert_exporter": "python",
   "pygments_lexer": "ipython3",
   "version": "3.9.12"
  },
  "orig_nbformat": 4
 },
 "nbformat": 4,
 "nbformat_minor": 2
}
